{
  "nbformat": 4,
  "nbformat_minor": 0,
  "metadata": {
    "colab": {
      "name": "Algorithms.ipynb",
      "provenance": [],
      "collapsed_sections": [
        "x-BQUNSjAfwy",
        "Nr6I9vkfAYqi",
        "VfGHJgk0yFxu"
      ],
      "authorship_tag": "ABX9TyMQSO5Is9N5HuZuBaIN7X3u",
      "include_colab_link": true
    },
    "kernelspec": {
      "name": "python3",
      "display_name": "Python 3"
    }
  },
  "cells": [
    {
      "cell_type": "markdown",
      "metadata": {
        "id": "view-in-github",
        "colab_type": "text"
      },
      "source": [
        "<a href=\"https://colab.research.google.com/github/Franklin-Selva/tensorflow-2.0-gothrough/blob/master/Algorithms.ipynb\" target=\"_parent\"><img src=\"https://colab.research.google.com/assets/colab-badge.svg\" alt=\"Open In Colab\"/></a>"
      ]
    },
    {
      "cell_type": "markdown",
      "metadata": {
        "id": "x-BQUNSjAfwy",
        "colab_type": "text"
      },
      "source": [
        "### **Linear Regression Model**\n"
      ]
    },
    {
      "cell_type": "code",
      "metadata": {
        "id": "fJYlsHFV8tr3",
        "colab_type": "code",
        "colab": {}
      },
      "source": [
        "!pip3 install -q sklearn"
      ],
      "execution_count": 1,
      "outputs": []
    },
    {
      "cell_type": "code",
      "metadata": {
        "id": "6afOr16w74x9",
        "colab_type": "code",
        "colab": {}
      },
      "source": [
        "%tensorflow_version 2.x\n",
        "\n",
        "from __future__ import absolute_import, division, print_function, unicode_literals\n",
        "\n",
        "import tensorflow as tf\n",
        "import numpy as np\n",
        "import matplotlib.pyplot as plt\n",
        "import pandas as pd\n",
        "\n",
        "from IPython.display import clear_output\n",
        "import tensorflow.compat.v2.feature_column as fc"
      ],
      "execution_count": 2,
      "outputs": []
    },
    {
      "cell_type": "code",
      "metadata": {
        "id": "UJyUDqCy-_Fb",
        "colab_type": "code",
        "colab": {}
      },
      "source": [
        "dftrain = pd.read_csv('https://storage.googleapis.com/tf-datasets/titanic/train.csv')\n",
        "dfeval = pd.read_csv('https://storage.googleapis.com/tf-datasets/titanic/eval.csv')\n",
        "\n",
        "y_train = dftrain.pop('survived')\n",
        "y_eval = dfeval.pop('survived')\n"
      ],
      "execution_count": 3,
      "outputs": []
    },
    {
      "cell_type": "code",
      "metadata": {
        "id": "batfJCuz_3Gw",
        "colab_type": "code",
        "colab": {
          "base_uri": "https://localhost:8080/",
          "height": 0
        },
        "outputId": "84c6b055-2e4e-478f-e8e8-178af7f89e01"
      },
      "source": [
        "print (dftrain.head())\n",
        "print (y_train[:5])"
      ],
      "execution_count": 4,
      "outputs": [
        {
          "output_type": "stream",
          "text": [
            "      sex   age  n_siblings_spouses  parch  ...  class     deck  embark_town alone\n",
            "0    male  22.0                   1      0  ...  Third  unknown  Southampton     n\n",
            "1  female  38.0                   1      0  ...  First        C    Cherbourg     n\n",
            "2  female  26.0                   0      0  ...  Third  unknown  Southampton     y\n",
            "3  female  35.0                   1      0  ...  First        C  Southampton     n\n",
            "4    male  28.0                   0      0  ...  Third  unknown   Queenstown     y\n",
            "\n",
            "[5 rows x 9 columns]\n",
            "0    0\n",
            "1    1\n",
            "2    1\n",
            "3    1\n",
            "4    0\n",
            "Name: survived, dtype: int64\n"
          ],
          "name": "stdout"
        }
      ]
    },
    {
      "cell_type": "code",
      "metadata": {
        "id": "JV9PkhQuBSI1",
        "colab_type": "code",
        "colab": {
          "base_uri": "https://localhost:8080/",
          "height": 0
        },
        "outputId": "87264367-5140-4d58-ce7d-6da6f998c3c3"
      },
      "source": [
        "dftrain.describe()"
      ],
      "execution_count": 5,
      "outputs": [
        {
          "output_type": "execute_result",
          "data": {
            "text/html": [
              "<div>\n",
              "<style scoped>\n",
              "    .dataframe tbody tr th:only-of-type {\n",
              "        vertical-align: middle;\n",
              "    }\n",
              "\n",
              "    .dataframe tbody tr th {\n",
              "        vertical-align: top;\n",
              "    }\n",
              "\n",
              "    .dataframe thead th {\n",
              "        text-align: right;\n",
              "    }\n",
              "</style>\n",
              "<table border=\"1\" class=\"dataframe\">\n",
              "  <thead>\n",
              "    <tr style=\"text-align: right;\">\n",
              "      <th></th>\n",
              "      <th>age</th>\n",
              "      <th>n_siblings_spouses</th>\n",
              "      <th>parch</th>\n",
              "      <th>fare</th>\n",
              "    </tr>\n",
              "  </thead>\n",
              "  <tbody>\n",
              "    <tr>\n",
              "      <th>count</th>\n",
              "      <td>627.000000</td>\n",
              "      <td>627.000000</td>\n",
              "      <td>627.000000</td>\n",
              "      <td>627.000000</td>\n",
              "    </tr>\n",
              "    <tr>\n",
              "      <th>mean</th>\n",
              "      <td>29.631308</td>\n",
              "      <td>0.545455</td>\n",
              "      <td>0.379585</td>\n",
              "      <td>34.385399</td>\n",
              "    </tr>\n",
              "    <tr>\n",
              "      <th>std</th>\n",
              "      <td>12.511818</td>\n",
              "      <td>1.151090</td>\n",
              "      <td>0.792999</td>\n",
              "      <td>54.597730</td>\n",
              "    </tr>\n",
              "    <tr>\n",
              "      <th>min</th>\n",
              "      <td>0.750000</td>\n",
              "      <td>0.000000</td>\n",
              "      <td>0.000000</td>\n",
              "      <td>0.000000</td>\n",
              "    </tr>\n",
              "    <tr>\n",
              "      <th>25%</th>\n",
              "      <td>23.000000</td>\n",
              "      <td>0.000000</td>\n",
              "      <td>0.000000</td>\n",
              "      <td>7.895800</td>\n",
              "    </tr>\n",
              "    <tr>\n",
              "      <th>50%</th>\n",
              "      <td>28.000000</td>\n",
              "      <td>0.000000</td>\n",
              "      <td>0.000000</td>\n",
              "      <td>15.045800</td>\n",
              "    </tr>\n",
              "    <tr>\n",
              "      <th>75%</th>\n",
              "      <td>35.000000</td>\n",
              "      <td>1.000000</td>\n",
              "      <td>0.000000</td>\n",
              "      <td>31.387500</td>\n",
              "    </tr>\n",
              "    <tr>\n",
              "      <th>max</th>\n",
              "      <td>80.000000</td>\n",
              "      <td>8.000000</td>\n",
              "      <td>5.000000</td>\n",
              "      <td>512.329200</td>\n",
              "    </tr>\n",
              "  </tbody>\n",
              "</table>\n",
              "</div>"
            ],
            "text/plain": [
              "              age  n_siblings_spouses       parch        fare\n",
              "count  627.000000          627.000000  627.000000  627.000000\n",
              "mean    29.631308            0.545455    0.379585   34.385399\n",
              "std     12.511818            1.151090    0.792999   54.597730\n",
              "min      0.750000            0.000000    0.000000    0.000000\n",
              "25%     23.000000            0.000000    0.000000    7.895800\n",
              "50%     28.000000            0.000000    0.000000   15.045800\n",
              "75%     35.000000            1.000000    0.000000   31.387500\n",
              "max     80.000000            8.000000    5.000000  512.329200"
            ]
          },
          "metadata": {
            "tags": []
          },
          "execution_count": 5
        }
      ]
    },
    {
      "cell_type": "code",
      "metadata": {
        "id": "iXB9IE6jCVG8",
        "colab_type": "code",
        "colab": {
          "base_uri": "https://localhost:8080/",
          "height": 0
        },
        "outputId": "2ee7e267-64e4-4302-da14-c71f05c1fd01"
      },
      "source": [
        "dftrain.shape"
      ],
      "execution_count": 6,
      "outputs": [
        {
          "output_type": "execute_result",
          "data": {
            "text/plain": [
              "(627, 9)"
            ]
          },
          "metadata": {
            "tags": []
          },
          "execution_count": 6
        }
      ]
    },
    {
      "cell_type": "code",
      "metadata": {
        "id": "nPE-kM-6CdPR",
        "colab_type": "code",
        "colab": {
          "base_uri": "https://localhost:8080/",
          "height": 0
        },
        "outputId": "1d724de5-0333-4108-b0e6-07bd18cbb0cd"
      },
      "source": [
        "dftrain.age.hist(bins=20)"
      ],
      "execution_count": 7,
      "outputs": [
        {
          "output_type": "execute_result",
          "data": {
            "text/plain": [
              "<matplotlib.axes._subplots.AxesSubplot at 0x7efd817d1a58>"
            ]
          },
          "metadata": {
            "tags": []
          },
          "execution_count": 7
        },
        {
          "output_type": "display_data",
          "data": {
            "image/png": "[encoded data removed]",
            "text/plain": [
              "<Figure size 432x288 with 1 Axes>"
            ]
          },
          "metadata": {
            "tags": [],
            "needs_background": "light"
          }
        }
      ]
    },
    {
      "cell_type": "code",
      "metadata": {
        "id": "dAdn7DhcCves",
        "colab_type": "code",
        "colab": {
          "base_uri": "https://localhost:8080/",
          "height": 0
        },
        "outputId": "8e3a609e-dd91-4d82-d5af-038db41851b3"
      },
      "source": [
        "dftrain['sex'].value_counts().plot(kind='barh')"
      ],
      "execution_count": 8,
      "outputs": [
        {
          "output_type": "execute_result",
          "data": {
            "text/plain": [
              "<matplotlib.axes._subplots.AxesSubplot at 0x7efd816fa518>"
            ]
          },
          "metadata": {
            "tags": []
          },
          "execution_count": 8
        },
        {
          "output_type": "display_data",
          "data": {
            "image/png": "[encoded data removed]",
            "text/plain": [
              "<Figure size 432x288 with 1 Axes>"
            ]
          },
          "metadata": {
            "tags": [],
            "needs_background": "light"
          }
        }
      ]
    },
    {
      "cell_type": "code",
      "metadata": {
        "id": "CyDz8FVHDGn6",
        "colab_type": "code",
        "colab": {
          "base_uri": "https://localhost:8080/",
          "height": 0
        },
        "outputId": "7761f79f-9908-4dac-8be7-d0aa54b193a0"
      },
      "source": [
        "dftrain['class'].value_counts().plot(kind = 'bar')"
      ],
      "execution_count": 9,
      "outputs": [
        {
          "output_type": "execute_result",
          "data": {
            "text/plain": [
              "<matplotlib.axes._subplots.AxesSubplot at 0x7efd84870278>"
            ]
          },
          "metadata": {
            "tags": []
          },
          "execution_count": 9
        },
        {
          "output_type": "display_data",
          "data": {
            "image/png": "[encoded data removed]",
            "text/plain": [
              "<Figure size 432x288 with 1 Axes>"
            ]
          },
          "metadata": {
            "tags": [],
            "needs_background": "light"
          }
        }
      ]
    },
    {
      "cell_type": "code",
      "metadata": {
        "id": "vNxLE8_dDYC6",
        "colab_type": "code",
        "colab": {
          "base_uri": "https://localhost:8080/",
          "height": 0
        },
        "outputId": "73409539-4087-4c24-a54b-e5f94a160402"
      },
      "source": [
        "pd.concat([dftrain, y_train], axis = 1).groupby(\"sex\").survived.mean().plot(kind = \"barh\")"
      ],
      "execution_count": 10,
      "outputs": [
        {
          "output_type": "execute_result",
          "data": {
            "text/plain": [
              "<matplotlib.axes._subplots.AxesSubplot at 0x7efd8115d4e0>"
            ]
          },
          "metadata": {
            "tags": []
          },
          "execution_count": 10
        },
        {
          "output_type": "display_data",
          "data": {
            "image/png": "[encoded data removed]",
            "text/plain": [
              "<Figure size 432x288 with 1 Axes>"
            ]
          },
          "metadata": {
            "tags": [],
            "needs_background": "light"
          }
        }
      ]
    },
    {
      "cell_type": "code",
      "metadata": {
        "id": "r4BSMqCb22G3",
        "colab_type": "code",
        "colab": {
          "base_uri": "https://localhost:8080/",
          "height": 0
        },
        "outputId": "0775b20e-c58c-43fa-a525-5732b4bcc78b"
      },
      "source": [
        "#Preprocessing the dataset\n",
        "\n",
        "CATEGORICAL_DATA = [\"sex\", \"parch\", \"n_siblings_spouses\", \"class\", \"deck\", \"embark_town\", \"alone\"]\n",
        "\n",
        "NUMERICAL_DATA = [\"age\", \"fare\"]\n",
        "\n",
        "feature_columns = []\n",
        "\n",
        "for feature in CATEGORICAL_DATA:\n",
        "  vocab = dftrain[feature].unique()\n",
        "  feature_columns.append(tf.feature_column.categorical_column_with_vocabulary_list(feature, vocab))\n",
        "\n",
        "for feature in NUMERICAL_DATA:\n",
        "  feature_columns.append(tf.feature_column.numeric_column(feature, dtype=tf.float32))\n",
        "\n",
        "print (feature_columns)"
      ],
      "execution_count": 11,
      "outputs": [
        {
          "output_type": "stream",
          "text": [
            "[VocabularyListCategoricalColumn(key='sex', vocabulary_list=('male', 'female'), dtype=tf.string, default_value=-1, num_oov_buckets=0), VocabularyListCategoricalColumn(key='parch', vocabulary_list=(0, 1, 2, 5, 3, 4), dtype=tf.int64, default_value=-1, num_oov_buckets=0), VocabularyListCategoricalColumn(key='n_siblings_spouses', vocabulary_list=(1, 0, 3, 4, 2, 5, 8), dtype=tf.int64, default_value=-1, num_oov_buckets=0), VocabularyListCategoricalColumn(key='class', vocabulary_list=('Third', 'First', 'Second'), dtype=tf.string, default_value=-1, num_oov_buckets=0), VocabularyListCategoricalColumn(key='deck', vocabulary_list=('unknown', 'C', 'G', 'A', 'B', 'D', 'F', 'E'), dtype=tf.string, default_value=-1, num_oov_buckets=0), VocabularyListCategoricalColumn(key='embark_town', vocabulary_list=('Southampton', 'Cherbourg', 'Queenstown', 'unknown'), dtype=tf.string, default_value=-1, num_oov_buckets=0), VocabularyListCategoricalColumn(key='alone', vocabulary_list=('n', 'y'), dtype=tf.string, default_value=-1, num_oov_buckets=0), NumericColumn(key='age', shape=(1,), default_value=None, dtype=tf.float32, normalizer_fn=None), NumericColumn(key='fare', shape=(1,), default_value=None, dtype=tf.float32, normalizer_fn=None)]\n"
          ],
          "name": "stdout"
        }
      ]
    },
    {
      "cell_type": "code",
      "metadata": {
        "id": "RAQ2X0op5g_Q",
        "colab_type": "code",
        "colab": {}
      },
      "source": [
        "# To convert the pandas dataframe to model readable format i.e. tf.data.Dataset()\n",
        "\n",
        "def make_input_fn(data_df, label_df, num_epochs = 10, shuffle = True, batch_size = 5):\n",
        "\n",
        "  def input_function():\n",
        "    dataset = tf.data.Dataset.from_tensor_slices((dict(data_df), label_df))\n",
        "\n",
        "    if shuffle:\n",
        "      dataset = dataset.shuffle(1000)\n",
        "    \n",
        "    dataset = dataset.batch(batch_size).repeat(num_epochs)\n",
        "\n",
        "    return dataset\n",
        "  \n",
        "  return input_function\n",
        "\n",
        "train_function = make_input_fn(dftrain, y_train)\n",
        "eval_function = make_input_fn(dfeval, y_eval, num_epochs = 2, batch_size = 5)\n"
      ],
      "execution_count": 12,
      "outputs": []
    },
    {
      "cell_type": "code",
      "metadata": {
        "id": "Lg5J3bwo8EK3",
        "colab_type": "code",
        "colab": {
          "base_uri": "https://localhost:8080/",
          "height": 0
        },
        "outputId": "bd735499-343f-44b2-de80-e1fb8397bc57"
      },
      "source": [
        "#Creating the model \n",
        "\n",
        "linear_estim =tf.estimator.LinearClassifier(feature_columns= feature_columns)\n",
        "\n",
        "linear_estim.train(train_function)\n",
        "result = linear_estim.evaluate(eval_function)\n",
        "\n",
        "clear_output()\n",
        "print (\"Accuracy: \", result[\"accuracy\"]*100, \"%\")"
      ],
      "execution_count": 13,
      "outputs": [
        {
          "output_type": "stream",
          "text": [
            "Accuracy:  77.65151262283325 %\n"
          ],
          "name": "stdout"
        }
      ]
    },
    {
      "cell_type": "code",
      "metadata": {
        "id": "sbp7Bpkg81FH",
        "colab_type": "code",
        "colab": {
          "base_uri": "https://localhost:8080/",
          "height": 0
        },
        "outputId": "99a66280-3807-4efc-b771-1a65570f254a"
      },
      "source": [
        "#Predict Model\n",
        "\n",
        "result = list(linear_estim.predict(eval_function)) # For now, usually test dunction goes here.\n",
        "\n",
        "clear_output()\n",
        "\n",
        "#Testing the model\n",
        "\n",
        "id = 15 # Less than 200 pls.\n",
        "\n",
        "print (\"-\"*50)\n",
        "print (dfeval.loc[id])\n",
        "print (y_eval.loc[id])\n",
        "print (result[id][\"probabilities\"][1])"
      ],
      "execution_count": 14,
      "outputs": [
        {
          "output_type": "stream",
          "text": [
            "--------------------------------------------------\n",
            "sex                        female\n",
            "age                            16\n",
            "n_siblings_spouses              5\n",
            "parch                           2\n",
            "fare                         46.9\n",
            "class                       Third\n",
            "deck                      unknown\n",
            "embark_town           Southampton\n",
            "alone                           n\n",
            "Name: 15, dtype: object\n",
            "0\n",
            "0.7604471\n"
          ],
          "name": "stdout"
        }
      ]
    },
    {
      "cell_type": "markdown",
      "metadata": {
        "id": "Nr6I9vkfAYqi",
        "colab_type": "text"
      },
      "source": [
        "### **Classification Model**"
      ]
    },
    {
      "cell_type": "code",
      "metadata": {
        "id": "XQrzwoFQAA0A",
        "colab_type": "code",
        "colab": {}
      },
      "source": [
        "%tensorflow_version 2.x\n",
        "\n",
        "from __future__ import absolute_import, print_function, unicode_literals\n",
        "from IPython.display import clear_output\n",
        "\n",
        "import tensorflow as tf\n",
        "import pandas as pd"
      ],
      "execution_count": 15,
      "outputs": []
    },
    {
      "cell_type": "code",
      "metadata": {
        "id": "2O8uDLkkBTkg",
        "colab_type": "code",
        "colab": {
          "base_uri": "https://localhost:8080/",
          "height": 105
        },
        "outputId": "20bcf572-a40a-4c89-b91f-18a950e82361"
      },
      "source": [
        "train_path = tf.keras.utils.get_file(\"iris_training.csv\", \"https://storage.googleapis.com/download.tensorflow.org/data/iris_training.csv\")\n",
        "test_path = tf.keras.utils.get_file(\"iris_test.csv\", \"https://storage.googleapis.com/download.tensorflow.org/data/iris_test.csv\")\n",
        "\n",
        "COLUMN_NAMES = [\"SepalLength\", \"SepalWidth\", \"PetalLength\", \"PetalWidth\", \"Species\"]\n",
        "SPECIES = [\"Setosa\", \"Versicolor\", \"Virginica\"]\n",
        "\n",
        "train = pd.read_csv(train_path, names = COLUMN_NAMES, header = 0)\n",
        "test = pd.read_csv(test_path, names = COLUMN_NAMES, header = 0)"
      ],
      "execution_count": 16,
      "outputs": [
        {
          "output_type": "stream",
          "text": [
            "Downloading data from https://storage.googleapis.com/download.tensorflow.org/data/iris_training.csv\n",
            "8192/2194 [================================================================================================================] - 0s 0us/step\n",
            "Downloading data from https://storage.googleapis.com/download.tensorflow.org/data/iris_test.csv\n",
            "8192/573 [============================================================================================================================================================================================================================================================================================================================================================================================================================================] - 0s 0us/step\n"
          ],
          "name": "stdout"
        }
      ]
    },
    {
      "cell_type": "code",
      "metadata": {
        "id": "jZTo2LPxC1OU",
        "colab_type": "code",
        "colab": {
          "base_uri": "https://localhost:8080/",
          "height": 136
        },
        "outputId": "3c900ce1-22d4-4599-a085-546ee0ee14be"
      },
      "source": [
        "print(train.head())\n",
        "print(train.shape)"
      ],
      "execution_count": 17,
      "outputs": [
        {
          "output_type": "stream",
          "text": [
            "   SepalLength  SepalWidth  PetalLength  PetalWidth  Species\n",
            "0          6.4         2.8          5.6         2.2        2\n",
            "1          5.0         2.3          3.3         1.0        1\n",
            "2          4.9         2.5          4.5         1.7        2\n",
            "3          4.9         3.1          1.5         0.1        0\n",
            "4          5.7         3.8          1.7         0.3        0\n",
            "(120, 5)\n"
          ],
          "name": "stdout"
        }
      ]
    },
    {
      "cell_type": "code",
      "metadata": {
        "id": "eZSSbV_PC8mD",
        "colab_type": "code",
        "colab": {
          "base_uri": "https://localhost:8080/",
          "height": 34
        },
        "outputId": "ffdcf122-a19b-445e-b4be-9f8c87828612"
      },
      "source": [
        "print (train.keys()) # Topics of the dataset\n",
        "\n",
        "y_train = train.pop(\"Species\")\n",
        "y_test = test.pop(\"Species\")\n",
        "\n",
        "feature_columns = []\n",
        "\n",
        "\n",
        "for key in train.keys():\n",
        "  feature_columns.append(tf.feature_column.numeric_column(key = key))\n"
      ],
      "execution_count": 18,
      "outputs": [
        {
          "output_type": "stream",
          "text": [
            "Index(['SepalLength', 'SepalWidth', 'PetalLength', 'PetalWidth', 'Species'], dtype='object')\n"
          ],
          "name": "stdout"
        }
      ]
    },
    {
      "cell_type": "code",
      "metadata": {
        "id": "C3DyPshFECis",
        "colab_type": "code",
        "colab": {}
      },
      "source": [
        "#Input function\n",
        "def input_fn(features, labels, training = True, batch_size = 256):\n",
        "  dataset = tf.data.Dataset.from_tensor_slices((dict(features), labels))\n",
        "\n",
        "  if training:\n",
        "    dataset = dataset.shuffle(1000).repeat()\n",
        "\n",
        "  return dataset.batch(batch_size)"
      ],
      "execution_count": 19,
      "outputs": []
    },
    {
      "cell_type": "code",
      "metadata": {
        "id": "9hZRxtkjEu_h",
        "colab_type": "code",
        "colab": {
          "base_uri": "https://localhost:8080/",
          "height": 1000
        },
        "outputId": "89a98815-84bf-48bd-932b-2618f76962fb"
      },
      "source": [
        "#Building the model\n",
        "\n",
        "classifier = tf.estimator.DNNClassifier(hidden_units=[30, 10], feature_columns= feature_columns, n_classes = 3)\n",
        "\n",
        "# Training event\n",
        "classifier.train(input_fn = lambda: input_fn(train, y_train, training= True), steps = 5000)\n"
      ],
      "execution_count": 20,
      "outputs": [
        {
          "output_type": "stream",
          "text": [
            "INFO:tensorflow:Using default config.\n",
            "WARNING:tensorflow:Using temporary folder as model directory: /tmp/tmp742huw47\n",
            "INFO:tensorflow:Using config: {'_model_dir': '/tmp/tmp742huw47', '_tf_random_seed': None, '_save_summary_steps': 100, '_save_checkpoints_steps': None, '_save_checkpoints_secs': 600, '_session_config': allow_soft_placement: true\n",
            "graph_options {\n",
            "  rewrite_options {\n",
            "    meta_optimizer_iterations: ONE\n",
            "  }\n",
            "}\n",
            ", '_keep_checkpoint_max': 5, '_keep_checkpoint_every_n_hours': 10000, '_log_step_count_steps': 100, '_train_distribute': None, '_device_fn': None, '_protocol': None, '_eval_distribute': None, '_experimental_distribute': None, '_experimental_max_worker_delay_secs': None, '_session_creation_timeout_secs': 7200, '_service': None, '_cluster_spec': ClusterSpec({}), '_task_type': 'worker', '_task_id': 0, '_global_id_in_cluster': 0, '_master': '', '_evaluation_master': '', '_is_chief': True, '_num_ps_replicas': 0, '_num_worker_replicas': 1}\n",
            "INFO:tensorflow:Calling model_fn.\n",
            "WARNING:tensorflow:Layer dnn is casting an input tensor from dtype float64 to the layer's dtype of float32, which is new behavior in TensorFlow 2.  The layer has dtype float32 because its dtype defaults to floatx.\n",
            "\n",
            "If you intended to run this layer in float32, you can safely ignore this warning. If in doubt, this warning is likely only an issue if you are porting a TensorFlow 1.X model to TensorFlow 2.\n",
            "\n",
            "To change all layers to have dtype float64 by default, call `tf.keras.backend.set_floatx('float64')`. To change just this layer, pass dtype='float64' to the layer constructor. If you are the author of this layer, you can disable autocasting by passing autocast=False to the base Layer constructor.\n",
            "\n",
            "INFO:tensorflow:Done calling model_fn.\n",
            "INFO:tensorflow:Create CheckpointSaverHook.\n",
            "INFO:tensorflow:Graph was finalized.\n",
            "INFO:tensorflow:Running local_init_op.\n",
            "INFO:tensorflow:Done running local_init_op.\n",
            "INFO:tensorflow:Calling checkpoint listeners before saving checkpoint 0...\n",
            "INFO:tensorflow:Saving checkpoints for 0 into /tmp/tmp742huw47/model.ckpt.\n",
            "INFO:tensorflow:Calling checkpoint listeners after saving checkpoint 0...\n",
            "INFO:tensorflow:loss = 1.4527421, step = 0\n",
            "INFO:tensorflow:global_step/sec: 516.301\n",
            "INFO:tensorflow:loss = 1.0916636, step = 100 (0.195 sec)\n",
            "INFO:tensorflow:global_step/sec: 671.182\n",
            "INFO:tensorflow:loss = 0.98940504, step = 200 (0.152 sec)\n",
            "INFO:tensorflow:global_step/sec: 642.22\n",
            "INFO:tensorflow:loss = 0.91695344, step = 300 (0.156 sec)\n",
            "INFO:tensorflow:global_step/sec: 619.339\n",
            "INFO:tensorflow:loss = 0.8643744, step = 400 (0.161 sec)\n",
            "INFO:tensorflow:global_step/sec: 655.62\n",
            "INFO:tensorflow:loss = 0.8055712, step = 500 (0.150 sec)\n",
            "INFO:tensorflow:global_step/sec: 655.814\n",
            "INFO:tensorflow:loss = 0.7613203, step = 600 (0.154 sec)\n",
            "INFO:tensorflow:global_step/sec: 618.106\n",
            "INFO:tensorflow:loss = 0.72307646, step = 700 (0.163 sec)\n",
            "INFO:tensorflow:global_step/sec: 656.922\n",
            "INFO:tensorflow:loss = 0.6990539, step = 800 (0.149 sec)\n",
            "INFO:tensorflow:global_step/sec: 674.903\n",
            "INFO:tensorflow:loss = 0.6626027, step = 900 (0.149 sec)\n",
            "INFO:tensorflow:global_step/sec: 611.185\n",
            "INFO:tensorflow:loss = 0.6391109, step = 1000 (0.163 sec)\n",
            "INFO:tensorflow:global_step/sec: 633.311\n",
            "INFO:tensorflow:loss = 0.6186838, step = 1100 (0.158 sec)\n",
            "INFO:tensorflow:global_step/sec: 641.829\n",
            "INFO:tensorflow:loss = 0.5955452, step = 1200 (0.156 sec)\n",
            "INFO:tensorflow:global_step/sec: 661.314\n",
            "INFO:tensorflow:loss = 0.58636856, step = 1300 (0.151 sec)\n",
            "INFO:tensorflow:global_step/sec: 640.219\n",
            "INFO:tensorflow:loss = 0.5568658, step = 1400 (0.159 sec)\n",
            "INFO:tensorflow:global_step/sec: 673.79\n",
            "INFO:tensorflow:loss = 0.55119, step = 1500 (0.147 sec)\n",
            "INFO:tensorflow:global_step/sec: 687.453\n",
            "INFO:tensorflow:loss = 0.5264541, step = 1600 (0.144 sec)\n",
            "INFO:tensorflow:global_step/sec: 615.928\n",
            "INFO:tensorflow:loss = 0.5314678, step = 1700 (0.163 sec)\n",
            "INFO:tensorflow:global_step/sec: 648.395\n",
            "INFO:tensorflow:loss = 0.51123846, step = 1800 (0.157 sec)\n",
            "INFO:tensorflow:global_step/sec: 660.087\n",
            "INFO:tensorflow:loss = 0.49907172, step = 1900 (0.149 sec)\n",
            "INFO:tensorflow:global_step/sec: 626.744\n",
            "INFO:tensorflow:loss = 0.47655693, step = 2000 (0.162 sec)\n",
            "INFO:tensorflow:global_step/sec: 588\n",
            "INFO:tensorflow:loss = 0.4854468, step = 2100 (0.169 sec)\n",
            "INFO:tensorflow:global_step/sec: 659.787\n",
            "INFO:tensorflow:loss = 0.46572328, step = 2200 (0.150 sec)\n",
            "INFO:tensorflow:global_step/sec: 691.432\n",
            "INFO:tensorflow:loss = 0.46230763, step = 2300 (0.147 sec)\n",
            "INFO:tensorflow:global_step/sec: 628.514\n",
            "INFO:tensorflow:loss = 0.45755684, step = 2400 (0.158 sec)\n",
            "INFO:tensorflow:global_step/sec: 690.147\n",
            "INFO:tensorflow:loss = 0.44998878, step = 2500 (0.145 sec)\n",
            "INFO:tensorflow:global_step/sec: 668.674\n",
            "INFO:tensorflow:loss = 0.43846127, step = 2600 (0.150 sec)\n",
            "INFO:tensorflow:global_step/sec: 657.537\n",
            "INFO:tensorflow:loss = 0.4350349, step = 2700 (0.151 sec)\n",
            "INFO:tensorflow:global_step/sec: 643.194\n",
            "INFO:tensorflow:loss = 0.4191538, step = 2800 (0.153 sec)\n",
            "INFO:tensorflow:global_step/sec: 569.226\n",
            "INFO:tensorflow:loss = 0.41613558, step = 2900 (0.179 sec)\n",
            "INFO:tensorflow:global_step/sec: 637.29\n",
            "INFO:tensorflow:loss = 0.41288275, step = 3000 (0.154 sec)\n",
            "INFO:tensorflow:global_step/sec: 633.504\n",
            "INFO:tensorflow:loss = 0.41882837, step = 3100 (0.159 sec)\n",
            "INFO:tensorflow:global_step/sec: 649.481\n",
            "INFO:tensorflow:loss = 0.40230358, step = 3200 (0.153 sec)\n",
            "INFO:tensorflow:global_step/sec: 631.468\n",
            "INFO:tensorflow:loss = 0.3978817, step = 3300 (0.159 sec)\n",
            "INFO:tensorflow:global_step/sec: 645.582\n",
            "INFO:tensorflow:loss = 0.39959309, step = 3400 (0.157 sec)\n",
            "INFO:tensorflow:global_step/sec: 649.216\n",
            "INFO:tensorflow:loss = 0.39169157, step = 3500 (0.152 sec)\n",
            "INFO:tensorflow:global_step/sec: 657.495\n",
            "INFO:tensorflow:loss = 0.3744257, step = 3600 (0.151 sec)\n",
            "INFO:tensorflow:global_step/sec: 649.261\n",
            "INFO:tensorflow:loss = 0.36790654, step = 3700 (0.157 sec)\n",
            "INFO:tensorflow:global_step/sec: 632.877\n",
            "INFO:tensorflow:loss = 0.37559414, step = 3800 (0.158 sec)\n",
            "INFO:tensorflow:global_step/sec: 645.572\n",
            "INFO:tensorflow:loss = 0.3722874, step = 3900 (0.155 sec)\n",
            "INFO:tensorflow:global_step/sec: 637.781\n",
            "INFO:tensorflow:loss = 0.3797598, step = 4000 (0.155 sec)\n",
            "INFO:tensorflow:global_step/sec: 638.267\n",
            "INFO:tensorflow:loss = 0.3590324, step = 4100 (0.156 sec)\n",
            "INFO:tensorflow:global_step/sec: 633.162\n",
            "INFO:tensorflow:loss = 0.35294816, step = 4200 (0.161 sec)\n",
            "INFO:tensorflow:global_step/sec: 625.42\n",
            "INFO:tensorflow:loss = 0.34756768, step = 4300 (0.159 sec)\n",
            "INFO:tensorflow:global_step/sec: 640.723\n",
            "INFO:tensorflow:loss = 0.34121174, step = 4400 (0.157 sec)\n",
            "INFO:tensorflow:global_step/sec: 604.232\n",
            "INFO:tensorflow:loss = 0.34643012, step = 4500 (0.165 sec)\n",
            "INFO:tensorflow:global_step/sec: 666.623\n",
            "INFO:tensorflow:loss = 0.33451027, step = 4600 (0.147 sec)\n",
            "INFO:tensorflow:global_step/sec: 685.22\n",
            "INFO:tensorflow:loss = 0.33513695, step = 4700 (0.146 sec)\n",
            "INFO:tensorflow:global_step/sec: 667.024\n",
            "INFO:tensorflow:loss = 0.3309137, step = 4800 (0.153 sec)\n",
            "INFO:tensorflow:global_step/sec: 645.187\n",
            "INFO:tensorflow:loss = 0.3293907, step = 4900 (0.152 sec)\n",
            "INFO:tensorflow:Calling checkpoint listeners before saving checkpoint 5000...\n",
            "INFO:tensorflow:Saving checkpoints for 5000 into /tmp/tmp742huw47/model.ckpt.\n",
            "INFO:tensorflow:Calling checkpoint listeners after saving checkpoint 5000...\n",
            "INFO:tensorflow:Loss for final step: 0.33135834.\n"
          ],
          "name": "stdout"
        },
        {
          "output_type": "execute_result",
          "data": {
            "text/plain": [
              "<tensorflow_estimator.python.estimator.canned.dnn.DNNClassifierV2 at 0x7efd7cffcbe0>"
            ]
          },
          "metadata": {
            "tags": []
          },
          "execution_count": 20
        }
      ]
    },
    {
      "cell_type": "code",
      "metadata": {
        "id": "wr7n-t94GgoJ",
        "colab_type": "code",
        "colab": {
          "base_uri": "https://localhost:8080/",
          "height": 34
        },
        "outputId": "13d10d78-d8e4-41b3-8483-2f8f6e39c61a"
      },
      "source": [
        "# Evaluate the model\n",
        "\n",
        "result = classifier.evaluate(input_fn= lambda: input_fn(test, y_test, training = False))\n",
        "\n",
        "clear_output()\n",
        "\n",
        "print (result[\"accuracy\"])"
      ],
      "execution_count": 21,
      "outputs": [
        {
          "output_type": "stream",
          "text": [
            "0.96666664\n"
          ],
          "name": "stdout"
        }
      ]
    },
    {
      "cell_type": "code",
      "metadata": {
        "id": "XKrBTdLhIbEh",
        "colab_type": "code",
        "colab": {
          "base_uri": "https://localhost:8080/",
          "height": 258
        },
        "outputId": "1624f8e2-d073-4549-a0a6-1e78232ea40d"
      },
      "source": [
        "def input_fn(features, batch_size=256):\n",
        "  return tf.data.Dataset.from_tensor_slices(dict(features)).batch(batch_size)\n",
        "\n",
        "\n",
        "features = train.keys()\n",
        "predict = {}\n",
        "\n",
        "print(\"Input numeical values as prompted\")\n",
        "for feature in features:\n",
        "  valid = True\n",
        "  while valid:\n",
        "    val = input(feature + \":\")\n",
        "    if not val.isdigit(): valid = False\n",
        "\n",
        "    predict[feature] = [float(val)]\n",
        "    \n",
        "prediction = classifier.predict(input_fn = lambda: input_fn(predict))\n",
        "for pred_dict in prediction:\n",
        "  # print (pred_dict)\n",
        "  class_id = pred_dict[\"class_ids\"][0]\n",
        "  probablity = pred_dict[\"probabilities\"][class_id]\n",
        "\n",
        "  print (\"Prediction is {} with {:.1f}%\".format(SPECIES[class_id], 100* probablity))"
      ],
      "execution_count": 29,
      "outputs": [
        {
          "output_type": "stream",
          "text": [
            "Input numeical values as prompted\n",
            "SepalLength:2.4\n",
            "SepalWidth:2.1\n",
            "PetalLength:.2\n",
            "PetalWidth:6.3\n",
            "INFO:tensorflow:Calling model_fn.\n",
            "INFO:tensorflow:Done calling model_fn.\n",
            "INFO:tensorflow:Graph was finalized.\n",
            "INFO:tensorflow:Restoring parameters from /tmp/tmp742huw47/model.ckpt-5000\n",
            "INFO:tensorflow:Running local_init_op.\n",
            "INFO:tensorflow:Done running local_init_op.\n",
            "{'logits': array([0.1360029 , 0.5300667 , 0.51312345], dtype=float32), 'probabilities': array([0.25373787, 0.37629202, 0.3699701 ], dtype=float32), 'class_ids': array([1]), 'classes': array([b'1'], dtype=object), 'all_class_ids': array([0, 1, 2], dtype=int32), 'all_classes': array([b'0', b'1', b'2'], dtype=object)}\n",
            "Prediction is Versicolor with 37.6%\n"
          ],
          "name": "stdout"
        }
      ]
    },
    {
      "cell_type": "markdown",
      "metadata": {
        "id": "VfGHJgk0yFxu",
        "colab_type": "text"
      },
      "source": [
        "### **Clustering**"
      ]
    },
    {
      "cell_type": "code",
      "metadata": {
        "id": "XO4AJqYPv53G",
        "colab_type": "code",
        "colab": {}
      },
      "source": [
        "%tensorflow_version 2.x\n",
        "import tensorflow_probability as tfp\n",
        "import tensorflow as tf"
      ],
      "execution_count": 30,
      "outputs": []
    },
    {
      "cell_type": "code",
      "metadata": {
        "id": "lAz4PSwU1Grf",
        "colab_type": "code",
        "colab": {}
      },
      "source": [
        "tfd = tfp.distributions\n",
        "\n",
        "initial_distribution = tfd.Categorical([0.8, 0.2])\n",
        "transition_distribution = tfd.Categorical([[0.7, 0.3], [0.2, 0.8]])\n",
        "observation_distribution = tfd.Normal(loc = [0., 15.], scale = [5., 10.]) \n",
        "# loc represents the mean\n",
        "# scale is the standard deviation\n"
      ],
      "execution_count": 31,
      "outputs": []
    },
    {
      "cell_type": "code",
      "metadata": {
        "id": "Ezkn7UuT1-hR",
        "colab_type": "code",
        "colab": {}
      },
      "source": [
        "# Create the model\n",
        "model = tfd.HiddenMarkovModel(initial_distribution= initial_distribution, \n",
        "                              transition_distribution = transition_distribution, \n",
        "                              observation_distribution = observation_distribution, \n",
        "                              num_steps = 7)"
      ],
      "execution_count": 36,
      "outputs": []
    },
    {
      "cell_type": "code",
      "metadata": {
        "id": "G0EVENOA2ds_",
        "colab_type": "code",
        "colab": {
          "base_uri": "https://localhost:8080/",
          "height": 34
        },
        "outputId": "cbe7026a-acc1-4530-ef09-6567b4766f84"
      },
      "source": [
        "mean = model.mean()\n",
        "\n",
        "with tf.compat.v1.Session() as sess:\n",
        "  print (mean.numpy())"
      ],
      "execution_count": 37,
      "outputs": [
        {
          "output_type": "stream",
          "text": [
            "[5.315155  7.318411  7.807895  7.927496  7.9567204 7.9638615 7.9656057]\n"
          ],
          "name": "stdout"
        }
      ]
    },
    {
      "cell_type": "code",
      "metadata": {
        "id": "UmKxsYoT3Elc",
        "colab_type": "code",
        "colab": {}
      },
      "source": [
        ""
      ],
      "execution_count": null,
      "outputs": []
    }
  ]
}